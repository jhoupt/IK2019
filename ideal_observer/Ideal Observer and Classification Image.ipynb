{
 "cells": [
  {
   "cell_type": "code",
   "execution_count": 1,
   "metadata": {},
   "outputs": [],
   "source": [
    "import numpy as np\n",
    "import matplotlib.pyplot as plt\n",
    "import seaborn as sns\n",
    "import pandas as pd\n",
    "import os, re\n",
    "from numpy import genfromtxt\n",
    "from PIL import Image, ImageFilter"
   ]
  },
  {
   "cell_type": "code",
   "execution_count": 2,
   "metadata": {},
   "outputs": [],
   "source": [
    "data_dir = './data/'"
   ]
  },
  {
   "cell_type": "code",
   "execution_count": 45,
   "metadata": {},
   "outputs": [
    {
     "name": "stdout",
     "output_type": "stream",
     "text": [
      "  Subject  Condition  Threshold  Efficiency\n",
      "0    5555       Real   0.425017    0.026372\n",
      "1     joe       Real   0.173922    0.064447\n",
      "2     joe  Schematic   0.017367    0.224969\n",
      "3   ideal       Real   0.011209    1.000000\n",
      "4   ideal  Schematic   0.003907    1.000000\n"
     ]
    },
    {
     "data": {
      "image/png": "[encoded data removed]",
      "text/plain": [
       "<Figure size 432x288 with 1 Axes>"
      ]
     },
     "metadata": {
      "needs_background": "light"
     },
     "output_type": "display_data"
    }
   ],
   "source": [
    "sub_re = re.compile(r'^(.+)_Face-Threshold.*threshold.csv')\n",
    "data_files = os.listdir(data_dir)\n",
    "thresholds = []\n",
    "ideal_threshold = {}\n",
    "conditions = []\n",
    "subjects =[]\n",
    "for fname in data_files :\n",
    "    subject = sub_re.findall(fname)\n",
    "    if len(subject) > 0 :\n",
    "        subject = subject[0]\n",
    "        dat = pd.read_csv(data_dir + fname)\n",
    "        condition = dat['Face'][0]\n",
    "        thresholds.append(np.abs(dat['Threshold'][0]))\n",
    "        subjects.append(subject)\n",
    "        conditions.append(condition)\n",
    "        if subject == 'ideal':\n",
    "            ideal_threshold[condition] = dat['Threshold'][0]\n",
    "efficiencies = np.zeros(len(thresholds))\n",
    "for i in range(len(thresholds)):\n",
    "    efficiencies[i] = ideal_threshold[conditions[i]] / thresholds[i]\n",
    "results = pd.DataFrame({'Subject':subjects, 'Condition':conditions, 'Threshold':thresholds,\n",
    "                        'Efficiency' : efficiencies})    \n",
    "human = results[results['Subject'] != 'ideal']\n",
    "sns.violinplot( y=human[\"Efficiency\"], x=human[\"Condition\"])\n",
    "print(results)\n",
    "#results.to_csv('Face-Threshold_results.csv')"
   ]
  },
  {
   "cell_type": "code",
   "execution_count": 48,
   "metadata": {},
   "outputs": [
    {
     "name": "stdout",
     "output_type": "stream",
     "text": [
      "ideal\n",
      "ideal\n",
      "5555\n"
     ]
    },
    {
     "name": "stderr",
     "output_type": "stream",
     "text": [
      "/Library/Frameworks/Python.framework/Versions/3.7/lib/python3.7/site-packages/ipykernel_launcher.py:39: RuntimeWarning: invalid value encountered in true_divide\n"
     ]
    }
   ],
   "source": [
    "subci_re = re.compile(r'^(.+)_Face.*_classificationImage.*csv')\n",
    "data_files = os.listdir(data_dir)\n",
    "subjects =[]\n",
    "n = {'Real': 0, 'Schematic': 0}\n",
    "cix = {'Real': np.zeros([210,140]), 'Schematic': np.zeros([263,263])}\n",
    "for fname in data_files :\n",
    "    subject = subci_re.findall(fname)\n",
    "    if len(subject) > 0 :\n",
    "        print(subject[0])\n",
    "        if subject[0] == 'ideal' :\n",
    "            ci = genfromtxt(data_dir + fname, delimiter=',')\n",
    "            ci = ci + np.abs(np.min(ci))\n",
    "            ci = ci * (255 / np.max(ci))\n",
    "            ci = np.floor(ci)\n",
    "            ci_image = Image.fromarray(ci).convert('L')\n",
    "            ci_image.show()\n",
    "            ci_smooth = ci_image.filter(ImageFilter.GaussianBlur(4))\n",
    "            ci_smooth.show()\n",
    "            ci_threshold = np.array(ci_smooth)\n",
    "            lb = np.quantile(ci_threshold, .025)\n",
    "            ub = np.quantile(ci_threshold, .97)\n",
    "            ci_threshold[ci_threshold < lb] = 0\n",
    "            ci_threshold[ci_threshold > ub] = 255\n",
    "            ci_threshold[np.logical_and(ci_threshold < ub,  ci_threshold > lb)] = 128\n",
    "            ci_threshold = Image.fromarray(ci_threshold)\n",
    "            ci_threshold.show()\n",
    "        else :\n",
    "            ci = genfromtxt(data_dir + fname, delimiter=',')\n",
    "            ci = ci + np.abs(np.min(ci))\n",
    "            ci = ci * (255 / np.max(ci))\n",
    "            if ci.shape[0] == 263 :\n",
    "                cix['Schematic'] = cix['Schematic'] + ci\n",
    "                n['Schematic'] = n['Schematic'] + 1\n",
    "            else :\n",
    "                cix['Real'] = cix['Real'] + ci\n",
    "                n['Real'] = n['Real'] + 1\n",
    "conditions = ['Real', 'Schematic']                \n",
    "for i in range(2) :\n",
    "    cix[conditions[i]] = np.floor(cix[conditions[i]] / n[conditions[i]])\n",
    "    cix_image = Image.fromarray(cix[conditions[i]]).convert('L')\n",
    "    cix_image.show()\n",
    "    cix_smooth = cix_image.filter(ImageFilter.GaussianBlur(4))\n",
    "    cix_smooth.show()\n"
   ]
  },
  {
   "cell_type": "code",
   "execution_count": 47,
   "metadata": {},
   "outputs": [],
   "source": [
    "fname =  'ideal_Face-ClassificationImage_2019_Mar_17_1816_Schematic_classificationImage.csv'\n",
    "subject = subci_re.findall(fname)\n",
    "ci = genfromtxt(data_dir + fname, delimiter=',')\n",
    "ci = ci + np.abs(np.min(ci))\n",
    "ci = ci * (255 / np.max(ci))\n",
    "ci = np.floor(ci)\n",
    "ci_image = Image.fromarray(ci).convert('L')\n",
    "ci_image.show()\n",
    "ci_smooth = ci_image.filter(ImageFilter.GaussianBlur(4))\n",
    "ci_smooth.show()\n",
    "#ci_threshold = np.array(ci_smooth)\n",
    "#lb = np.quantile(ci_threshold, .025)\n",
    "#ub = np.quantile(ci_threshold, .97)\n",
    "#ci_threshold[ci_threshold < lb] = 0\n",
    "#ci_threshold[ci_threshold > ub] = 255\n",
    "#ci_threshold[np.logical_and(ci_threshold < ub,  ci_threshold > lb)] = 128\n",
    "#ci_threshold = Image.fromarray(ci_threshold)\n",
    "#ci_threshold.show()"
   ]
  },
  {
   "cell_type": "code",
   "execution_count": 42,
   "metadata": {},
   "outputs": [
    {
     "data": {
      "text/plain": [
       "['joe_Face-Threshold_2019_Mar_17_1735.csv',\n",
       " 'ideal_Face-Threshold_2019_Mar_17_1928.psydat',\n",
       " 'joe_Face-Threshold_2019_Mar_17_1735.log',\n",
       " '.DS_Store',\n",
       " 'ideal_Face-ClassificationImage_2019_Mar_17_1816.csv',\n",
       " 'ideal_Face-Threshold_2019_Mar_17_1927_threshold.csv',\n",
       " 'joe_Face-Threshold_2019_Mar_17_1747.psydat',\n",
       " 'ideal_Face-ClassificationImage_2019_Mar_17_1816.log',\n",
       " 'ideal_Face-Threshold_2019_Mar_17_1927.csv',\n",
       " 'ideal_Face-ClassificationImage_2019_Mar_17_1816.psydat',\n",
       " '5555_Face-Threshold_2019_Mar_17_1737_threshold.csv',\n",
       " 'ideal_Face-Threshold_2019_Mar_17_1927.log',\n",
       " 'ideal_Face-Threshold_2019_Mar_17_1114.csv',\n",
       " 'joe_Face-Threshold_2019_Mar_17_1747.log',\n",
       " 'ideal_Face-ClassificationImage_2019_Mar_15_2201_classificationImage.csv',\n",
       " 'ideal_Face-Threshold_2019_Mar_17_1921.csv',\n",
       " 'ideal_Face-ClassificationImage_2019_Mar_16_0956.log',\n",
       " 'ideal_Face-Threshold_2019_Mar_17_1114_threshold.csv',\n",
       " 'joe_Face-Threshold_2019_Mar_17_1735_threshold.csv',\n",
       " 'ideal_Face-ClassificationImage_2019_Mar_16_0956.csv',\n",
       " 'joe_Face-Threshold_2019_Mar_17_1747.csv',\n",
       " 'ideal_Face-Threshold_2019_Mar_17_1114.log',\n",
       " 'ideal_Face-ClassificationImage_2019_Mar_16_0956.psydat',\n",
       " 'ideal_Face-Threshold_2019_Mar_17_1921.log',\n",
       " 'joe_Face-Threshold_2019_Mar_17_1735.psydat',\n",
       " 'ideal_Face-ClassificationImage_2019_Mar_17_1816_Schematic_classificationImage.csv',\n",
       " '5555_Face-ClassificationImage_2019_Mar_17_1741_Real_classificationImage.csv',\n",
       " 'ideal_Face-ClassificationImage_2019_Mar_15_2201.psydat',\n",
       " 'ideal_Face-Threshold_2019_Mar_17_1928.csv',\n",
       " 'ideal_Face-Threshold_2019_Mar_17_1927.psydat',\n",
       " 'ideal_Face-Threshold_2019_Mar_17_1928_threshold.csv',\n",
       " 'ideal_Face-Threshold_2019_Mar_17_1928.log',\n",
       " 'joe_Face-Threshold_2019_Mar_17_1747_threshold.csv',\n",
       " 'ideal_Face-ClassificationImage_2019_Mar_15_2201.log',\n",
       " 'ideal_Face-ClassificationImage_2019_Mar_15_2201.csv',\n",
       " 'ideal_Face-Threshold_2019_Mar_17_1114.psydat',\n",
       " 'ideal_Face-Threshold_2019_Mar_17_1921.psydat',\n",
       " 'ideal_Face-Threshold_2019_Mar_17_1921_threshold.csv']"
      ]
     },
     "execution_count": 42,
     "metadata": {},
     "output_type": "execute_result"
    }
   ],
   "source": [
    "data_files"
   ]
  },
  {
   "cell_type": "code",
   "execution_count": null,
   "metadata": {},
   "outputs": [],
   "source": []
  }
 ],
 "metadata": {
  "kernelspec": {
   "display_name": "Python 3",
   "language": "python",
   "name": "python3"
  },
  "language_info": {
   "codemirror_mode": {
    "name": "ipython",
    "version": 3
   },
   "file_extension": ".py",
   "mimetype": "text/x-python",
   "name": "python",
   "nbconvert_exporter": "python",
   "pygments_lexer": "ipython3",
   "version": "3.7.2"
  }
 },
 "nbformat": 4,
 "nbformat_minor": 2
}
