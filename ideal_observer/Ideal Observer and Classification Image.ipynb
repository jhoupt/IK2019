{
 "cells": [
  {
   "cell_type": "code",
   "execution_count": 176,
   "metadata": {},
   "outputs": [],
   "source": [
    "import numpy as np\n",
    "import matplotlib.pyplot as plt\n",
    "import seaborn as sns\n",
    "import pandas as pd\n",
    "import os, re\n",
    "from numpy import genfromtxt\n",
    "from PIL import Image, ImageFilter"
   ]
  },
  {
   "cell_type": "code",
   "execution_count": 3,
   "metadata": {},
   "outputs": [],
   "source": [
    "data_dir = './data/'"
   ]
  },
  {
   "cell_type": "code",
   "execution_count": 312,
   "metadata": {},
   "outputs": [
    {
     "name": "stdout",
     "output_type": "stream",
     "text": [
      "  Subject  Condition  Threshold  Efficiency\n",
      "0   ideal  Schematic   0.000685         1.0\n",
      "1   ideal       Real   0.012242         1.0\n"
     ]
    }
   ],
   "source": [
    "sub_re = re.compile(r'^(.+)_Face-Threshold.*threshold.csv')\n",
    "data_files = os.listdir(data_dir)\n",
    "thresholds = []\n",
    "ideal_threshold = {}\n",
    "conditions = []\n",
    "subjects =[]\n",
    "for fname in data_files :\n",
    "    subject = sub_re.findall(fname)\n",
    "    if len(subject) > 0 :\n",
    "        subject = subject[0]\n",
    "        dat = pd.read_csv(data_dir + fname)\n",
    "        condition = dat['Face'][0]\n",
    "        thresholds.append(dat['Threshold'][0])\n",
    "        subjects.append(subject)\n",
    "        conditions.append(condition)\n",
    "        if subject == 'ideal':\n",
    "            ideal_threshold[condition] = dat['Threshold'][0]\n",
    "efficiencies = np.zeros(len(thresholds))\n",
    "for i in range(len(thresholds)):\n",
    "    efficiencies[i] = thresholds[i] / ideal_threshold[conditions[i]]\n",
    "results = pd.DataFrame({'Subject':subjects, 'Condition':conditions, 'Threshold':thresholds,\n",
    "                        'Efficiency' : efficiencies})    \n",
    "#human = results[results['Subject'] != 'ideal']\n",
    "#sns.violinplot( y=human[\"Efficiency\"], x=human[\"Condition\"])\n",
    "print(results)\n",
    "#results.to_csv('Face-Threshold_results.csv')"
   ]
  },
  {
   "cell_type": "code",
   "execution_count": 302,
   "metadata": {},
   "outputs": [],
   "source": [
    "subci_re = re.compile(r'^(.+)_classificationImage.*csv')\n",
    "data_files = os.listdir(data_dir)\n",
    "subjects =[]\n",
    "for fname in data_files :\n",
    "    subject = subci_re.findall(fname)\n",
    "    if len(subject) > 0 :\n",
    "        ci = genfromtxt(data_dir + fname, delimiter=',')\n",
    "        ci = ci + np.abs(np.min(ci))\n",
    "        ci = ci * (255 / np.max(ci))\n",
    "        ci = np.floor(ci)\n",
    "        ci_image = Image.fromarray(ci).convert('L')\n",
    "        ci_image.show()\n",
    "        ci_smooth = ci_image.filter(ImageFilter.GaussianBlur(4))\n",
    "        ci_smooth.show()\n",
    "        ci_threshold = np.array(ci_smooth)\n",
    "        lb = np.quantile(ci_threshold, .025)\n",
    "        ub = np.quantile(ci_threshold, .97)\n",
    "        ci_threshold[ci_threshold < lb] = 0\n",
    "        ci_threshold[ci_threshold > ub] = 255\n",
    "        ci_threshold[np.logical_and(ci_threshold < ub,  ci_threshold > lb)] = 128\n",
    "        ci_threshold = Image.fromarray(ci_threshold)\n",
    "        ci_threshold.show()"
   ]
  },
  {
   "cell_type": "code",
   "execution_count": null,
   "metadata": {},
   "outputs": [],
   "source": []
  }
 ],
 "metadata": {
  "kernelspec": {
   "display_name": "Python 3",
   "language": "python",
   "name": "python3"
  },
  "language_info": {
   "codemirror_mode": {
    "name": "ipython",
    "version": 3
   },
   "file_extension": ".py",
   "mimetype": "text/x-python",
   "name": "python",
   "nbconvert_exporter": "python",
   "pygments_lexer": "ipython3",
   "version": "3.7.2"
  }
 },
 "nbformat": 4,
 "nbformat_minor": 2
}
